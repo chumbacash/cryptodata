{
 "cells": [
  {
   "cell_type": "code",
   "execution_count": null,
   "metadata": {},
   "outputs": [],
   "source": [
    "from utilities.data_manager import DataManager"
   ]
  },
  {
   "cell_type": "code",
   "execution_count": null,
   "metadata": {},
   "outputs": [],
   "source": [
    "exchange = \"binance\" # \"bitget\"\n",
    "timeframe = \"1h\"\n",
    "pairs = [\n",
    "    # \"BTC/USDT\",\n",
    "    \"BTC/USDT:USDT\",\n",
    "    \"ETH/USDT:USDT\",\n",
    "]"
   ]
  },
  {
   "cell_type": "code",
   "execution_count": null,
   "metadata": {},
   "outputs": [],
   "source": [
    "data = DataManager(name=exchange, path=\"../data\")\n",
    "\n",
    "for pair in pairs:\n",
    "    data.download(pair, timeframe, start_date=\"2024-04-01 00:00:00\")  # end_date=\"2022-01-01\""
   ]
  },
  {
   "cell_type": "code",
   "execution_count": null,
   "metadata": {},
   "outputs": [],
   "source": [
    "for pair in pairs:\n",
    "    ohlcv = data.load(pair, timeframe, start_date=\"2024-04-01 00:00:00\", end_date=\"2024-04-05 00:00:00\")\n",
    "    print(f\"{pair} \\n {ohlcv} \\n\")"
   ]
  },
  {
   "cell_type": "code",
   "execution_count": null,
   "metadata": {},
   "outputs": [],
   "source": [
    "looking_for = 'ETH'\n",
    "print([item for item in data.available_symbols if looking_for in item])"
   ]
  },
  {
   "cell_type": "code",
   "execution_count": null,
   "metadata": {},
   "outputs": [],
   "source": [
    "for symbol in pairs:\n",
    "    print(f\"For {symbol}, the limits are {data.fetch_symbol_markets_limits(symbol)}\")\n",
    "    print(f\"The smallest accepted position size is ~ {data.fetch_symbol_markets_limits(symbol)[\"amount\"][\"min\"]*data.fetch_symbol_ticker_info(symbol)[\"close\"]} (in quote currency)\\n\")"
   ]
  }
 ],
 "metadata": {
  "kernelspec": {
   "display_name": "Python 3",
   "language": "python",
   "name": "python3"
  },
  "language_info": {
   "codemirror_mode": {
    "name": "ipython",
    "version": 3
   },
   "file_extension": ".py",
   "mimetype": "text/x-python",
   "name": "python",
   "nbconvert_exporter": "python",
   "pygments_lexer": "ipython3",
   "version": "3.12.0"
  }
 },
 "nbformat": 4,
 "nbformat_minor": 2
}
